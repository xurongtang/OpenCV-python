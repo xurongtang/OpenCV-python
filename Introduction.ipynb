{
 "cells": [
  {
   "cell_type": "markdown",
   "id": "9d2c9af3",
   "metadata": {},
   "source": [
    "#简单介绍\n",
    "\n",
    "基于OpenCV-python的官方文档进行opencv自学\n",
    "https://docs.opencv.org/4.x/d6/d00/tutorial_py_root.html\n",
    "\n",
    "##其原文为\n",
    "\n",
    "OpenCV introduces a new set of tutorials which will guide you through various functions available in OpenCV-Python. This guide is mainly focused on OpenCV 3.x version (although most of the tutorials will also work with OpenCV 2.x).\n",
    "\n",
    "Prior knowledge of Python and Numpy is recommended as they won't be covered in this guide. Proficiency with Numpy is a must in order to write optimized code using OpenCV-Python.\n",
    "\n",
    "This tutorial was originally started by Abid Rahman K. as part of the Google Summer of Code 2013 program under the guidance of Alexander Mordvintsev.\n",
    "\n",
    "可见，即使OpenCV版本已经4.x，但官方给出的教程还是3.x,此教程还是以最新版4.10做学习。\n",
    "\n",
    "##环境搭建\n",
    "\n",
    "关键命令：\n",
    "\n",
    "创建虚拟环境\n",
    "\n",
    "conda create -n your_env_name python=3.10\n",
    "\n",
    "配置国内源\n",
    "\n",
    "pip config set global.index-url https://pypi.tuna.tsinghua.edu.cn/simple\n",
    "\n",
    "将虚拟环境上传至Jupyter\n",
    "\n",
    "python -m ipykernel install --user --name your_env_name --display-name \"Your Env Display Name\"\n"
   ]
  },
  {
   "cell_type": "code",
   "execution_count": 1,
   "id": "880411e6",
   "metadata": {},
   "outputs": [
    {
     "name": "stdout",
     "output_type": "stream",
     "text": [
      "4.10.0\n"
     ]
    }
   ],
   "source": [
    "import cv2\n",
    "print(cv2.__version__)"
   ]
  },
  {
   "cell_type": "code",
   "execution_count": null,
   "id": "f57fea81",
   "metadata": {},
   "outputs": [],
   "source": []
  }
 ],
 "metadata": {
  "kernelspec": {
   "display_name": "OpenCV4",
   "language": "python",
   "name": "opencv4"
  },
  "language_info": {
   "codemirror_mode": {
    "name": "ipython",
    "version": 3
   },
   "file_extension": ".py",
   "mimetype": "text/x-python",
   "name": "python",
   "nbconvert_exporter": "python",
   "pygments_lexer": "ipython3",
   "version": "3.10.15"
  }
 },
 "nbformat": 4,
 "nbformat_minor": 5
}
