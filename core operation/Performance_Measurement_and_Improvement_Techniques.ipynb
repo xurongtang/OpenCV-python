{
 "cells": [
  {
   "cell_type": "markdown",
   "id": "9b0c695c",
   "metadata": {},
   "source": [
    "# Performance Measurement and Improvement Techniques\n",
    "In image processing, since you are dealing with a large number of operations per second, it is mandatory that your code is not only providing the correct solution, but that it is also providing it in the fastest manner. So in this chapter, you will learn:\n",
    "\n",
    "To measure the performance of your code.\n",
    "\n",
    "Some tips to improve the performance of your code.\n",
    "\n",
    "You will see these functions: cv.getTickCount, cv.getTickFrequency, etc."
   ]
  },
  {
   "cell_type": "markdown",
   "id": "ad816225",
   "metadata": {},
   "source": [
    "# Measuring Performance with OpenCV"
   ]
  },
  {
   "cell_type": "code",
   "execution_count": 7,
   "id": "6f34d568",
   "metadata": {},
   "outputs": [],
   "source": [
    "import cv2\n",
    "import numpy as np"
   ]
  },
  {
   "cell_type": "code",
   "execution_count": 8,
   "id": "cb6977ba",
   "metadata": {},
   "outputs": [
    {
     "name": "stdout",
     "output_type": "stream",
     "text": [
      "8515495189200\n",
      "8515495209800\n",
      "1000000000.0\n"
     ]
    }
   ],
   "source": [
    "e1 = cv2.getTickCount()  # 获得当前的钟刻数\n",
    "e2 = cv2.getTickCount()  # 获得当前的钟刻数\n",
    "# cv2.getTickFrequency() 是OpenCV 中的一个函数，用于返回系统中时钟的频率（即每秒钟的时钟刻度数）\n",
    "# cv2.getTickFrequency() 返回一秒的钟刻数\n",
    "time = (e2 - e1) / cv2.getTickFrequency()\n",
    "# time: 刻钟之间差值 除以 一秒钟的钟刻数 等于 过程的秒数\n",
    "print(e1)\n",
    "print(e2)\n",
    "print(cv2.getTickFrequency())"
   ]
  },
  {
   "cell_type": "code",
   "execution_count": 9,
   "id": "48abd7d4",
   "metadata": {},
   "outputs": [
    {
     "name": "stdout",
     "output_type": "stream",
     "text": [
      "0.0520724\n"
     ]
    }
   ],
   "source": [
    "img1 = cv2.imread(\"demo.png\")\n",
    "\n",
    "e1 = cv2.getTickCount()\n",
    "for i in range(5,49,2):\n",
    "    img1 = cv2.medianBlur(img1,i)  # 中值滤波\n",
    "e2 = cv2.getTickCount()\n",
    "t = (e2 - e1) / cv2.getTickFrequency()  # 计算耗时\n",
    "print(t)"
   ]
  },
  {
   "cell_type": "markdown",
   "id": "67d6f590",
   "metadata": {},
   "source": [
    "## Default Optimization in OpenCV\n",
    "许多OpenCV函数使用SSE2、AVX等进行了优化。它也包含未优化的代码。因此，如果我们的系统支持这些功能，我们应该利用它们（几乎所有现代处理器都支持它们）。在编译时默认启用。因此，如果启用，OpenCV将运行优化的代码，否则将运行未优化的代码。您可以使用cv2.useOptimized()来检查它是否启用/禁用，并使用cv2.setUseOptimized()来启用/禁用它。让我们看一个简单的例子。"
   ]
  },
  {
   "cell_type": "code",
   "execution_count": 11,
   "id": "94787855",
   "metadata": {},
   "outputs": [
    {
     "data": {
      "text/plain": [
       "True"
      ]
     },
     "execution_count": 11,
     "metadata": {},
     "output_type": "execute_result"
    }
   ],
   "source": [
    "cv2.useOptimized()"
   ]
  },
  {
   "cell_type": "code",
   "execution_count": 15,
   "id": "f7440eb3",
   "metadata": {},
   "outputs": [
    {
     "name": "stdout",
     "output_type": "stream",
     "text": [
      "2.01 ms ± 50.3 μs per loop (mean ± std. dev. of 7 runs, 1,000 loops each)\n"
     ]
    }
   ],
   "source": [
    "img = cv2.imread(\"demo.png\")\n",
    "%timeit res = cv2.medianBlur(img,49)"
   ]
  },
  {
   "cell_type": "code",
   "execution_count": 16,
   "id": "9b2ca551",
   "metadata": {},
   "outputs": [],
   "source": [
    "cv2.setUseOptimized(False) # 关闭"
   ]
  },
  {
   "cell_type": "code",
   "execution_count": 18,
   "id": "e56ae654",
   "metadata": {},
   "outputs": [
    {
     "data": {
      "text/plain": [
       "False"
      ]
     },
     "execution_count": 18,
     "metadata": {},
     "output_type": "execute_result"
    }
   ],
   "source": [
    "cv2.useOptimized()  # 查询是否启用优化"
   ]
  },
  {
   "cell_type": "code",
   "execution_count": 19,
   "id": "9efd71d2",
   "metadata": {},
   "outputs": [
    {
     "name": "stdout",
     "output_type": "stream",
     "text": [
      "1.84 ms ± 280 μs per loop (mean ± std. dev. of 7 runs, 100 loops each)\n"
     ]
    }
   ],
   "source": [
    "%timeit res = cv2.medianBlur(img,49)"
   ]
  },
  {
   "cell_type": "markdown",
   "id": "677fc388",
   "metadata": {},
   "source": [
    "## Measuring Performance in IPython\n",
    "有时您可能需要比较两个相似操作的性能。IPython 提供了一个魔法命令 timeit 来执行此操作。它多次运行代码以获得更准确的结果。再一次，它适合测量单行代码。"
   ]
  },
  {
   "cell_type": "code",
   "execution_count": 21,
   "id": "1d225584",
   "metadata": {},
   "outputs": [],
   "source": [
    "x = 5 # 可以使用%timeit方法查看某个命令的运行时间"
   ]
  },
  {
   "cell_type": "code",
   "execution_count": 22,
   "id": "8628eb87",
   "metadata": {},
   "outputs": [
    {
     "name": "stdout",
     "output_type": "stream",
     "text": [
      "191 ns ± 9.86 ns per loop (mean ± std. dev. of 7 runs, 1,000,000 loops each)\n"
     ]
    }
   ],
   "source": [
    "%timeit y=x**2"
   ]
  },
  {
   "cell_type": "code",
   "execution_count": 23,
   "id": "f56ad906",
   "metadata": {},
   "outputs": [
    {
     "name": "stdout",
     "output_type": "stream",
     "text": [
      "47.7 ns ± 2.31 ns per loop (mean ± std. dev. of 7 runs, 10,000,000 loops each)\n"
     ]
    }
   ],
   "source": [
    "%timeit y=x*x"
   ]
  },
  {
   "cell_type": "code",
   "execution_count": 24,
   "id": "290f8b0b",
   "metadata": {},
   "outputs": [],
   "source": [
    "z = np.uint8([5])"
   ]
  },
  {
   "cell_type": "code",
   "execution_count": 25,
   "id": "b68cd048",
   "metadata": {},
   "outputs": [
    {
     "name": "stdout",
     "output_type": "stream",
     "text": [
      "343 ns ± 14.6 ns per loop (mean ± std. dev. of 7 runs, 1,000,000 loops each)\n"
     ]
    }
   ],
   "source": [
    "%timeit y=z*z"
   ]
  },
  {
   "cell_type": "code",
   "execution_count": 26,
   "id": "1f6c1166",
   "metadata": {},
   "outputs": [
    {
     "name": "stdout",
     "output_type": "stream",
     "text": [
      "373 ns ± 17.5 ns per loop (mean ± std. dev. of 7 runs, 1,000,000 loops each)\n"
     ]
    }
   ],
   "source": [
    "%timeit y=np.square(z)"
   ]
  },
  {
   "cell_type": "code",
   "execution_count": null,
   "id": "03647f20",
   "metadata": {},
   "outputs": [],
   "source": []
  }
 ],
 "metadata": {
  "kernelspec": {
   "display_name": "OpenCV4",
   "language": "python",
   "name": "opencv4"
  },
  "language_info": {
   "codemirror_mode": {
    "name": "ipython",
    "version": 3
   },
   "file_extension": ".py",
   "mimetype": "text/x-python",
   "name": "python",
   "nbconvert_exporter": "python",
   "pygments_lexer": "ipython3",
   "version": "3.10.15"
  }
 },
 "nbformat": 4,
 "nbformat_minor": 5
}
