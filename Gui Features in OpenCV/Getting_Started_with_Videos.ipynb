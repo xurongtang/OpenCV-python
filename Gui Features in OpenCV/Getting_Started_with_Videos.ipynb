{
 "cells": [
  {
   "cell_type": "markdown",
   "id": "23d9705e",
   "metadata": {},
   "source": [
    "Goal:\n",
    "\n",
    "Learn to read video, display video, and save video.\n",
    "\n",
    "Learn to capture video from a camera and display it.\n",
    "\n",
    "You will learn these functions : cv.VideoCapture(), cv.VideoWriter()"
   ]
  },
  {
   "cell_type": "markdown",
   "id": "215b6304",
   "metadata": {},
   "source": [
    "# Part 1: Capture Video from Camera（从相机获得视频）\n",
    "\n",
    "关键点1 使用函数创建对象(object)\n",
    "\n",
    "关键点2 传入的参数代表设备的第index个摄像头\n",
    "\n",
    "关键点3 末尾记得释放（destory）\n",
    "\n",
    "关键方法：cv2.VideoCapture,(object).read(),(object).release()"
   ]
  },
  {
   "cell_type": "code",
   "execution_count": 1,
   "id": "29b26ef9",
   "metadata": {},
   "outputs": [],
   "source": [
    "import numpy as np\n",
    "import cv2\n",
    "\n",
    "# 创建视频流获取对象\n",
    "cap = cv2.VideoCapture(0)\n",
    "# 判断数据流是否打开，此刻还没有抓取设备的相机视频流\n",
    "if not cap.isOpened():\n",
    "    print(\"Cannot open camera\")\n",
    "    exit()\n",
    "else:\n",
    "    cap.open(0)\n",
    "# 创建工作循环\n",
    "while True:\n",
    "    # 抓取视频流\n",
    "    ret, frame = cap.read() \n",
    "    # 返回值ret为bool类型，代表是否成果抓取\n",
    "    # frame则为返回的视频流\n",
    "    # 未能成功抓取则break循环\n",
    "    if not ret:\n",
    "        print(\"Can't receive frame (stream end?). Exiting ...\")\n",
    "        break\n",
    "    # 将视频转换为黑白视频(此处表示可以对视频色彩格式进行设置，直接imshow将得到原本的彩色视频)\n",
    "    gray = cv2.cvtColor(frame, cv2.COLOR_BGR2GRAY)\n",
    "    # 展示\n",
    "    cv2.imshow('frame', frame)\n",
    "    # 桌面窗口的控制,在界面输入'q'则break循环\n",
    "    # cv.waitKey(1)：在显示每一帧时等待1毫秒，若在此期间有键被按下，则返回该键的ASCII码；否则返回 -1。\n",
    "    # ord('q')：返回字符 'q' 的ASCII码，用于与按键的ASCII码进行比较\n",
    "    if cv2.waitKey(1) == ord('q'):\n",
    "        break\n",
    "# When everything done, release the capture\n",
    "cap.release()\n",
    "cv2.destroyAllWindows()"
   ]
  },
  {
   "cell_type": "markdown",
   "id": "aec2b90b",
   "metadata": {},
   "source": [
    "### 获得读取视频的属性\n",
    "\n",
    "You can also access some of the features of this video using cap.get(propId) method where propId is a number from 0 to 18. Each number denotes a property of the video (if it is applicable to that video). Full details can be seen here: cv::VideoCapture::get(). Some of these values can be modified using cap.set(propId, value). Value is the new value you want.\n",
    "\n",
    "For example, I can check the frame width and height by cap.get(cv.CAP_PROP_FRAME_WIDTH) and cap.get(cv.CAP_PROP_FRAME_HEIGHT). It gives me 640x480 by default. But I want to modify it to 320x240. Just use ret = cap.set(cv.CAP_PROP_FRAME_WIDTH,320) and ret = cap.set(cv.CAP_PROP_FRAME_HEIGHT,240)."
   ]
  },
  {
   "cell_type": "code",
   "execution_count": 4,
   "id": "0101adda",
   "metadata": {},
   "outputs": [],
   "source": [
    "if not cap.isOpened():\n",
    "    cap.open(0)"
   ]
  },
  {
   "cell_type": "code",
   "execution_count": 5,
   "id": "829dbc6c",
   "metadata": {},
   "outputs": [
    {
     "name": "stdout",
     "output_type": "stream",
     "text": [
      "0.0|0.0|-1.0|640.0|480.0|30.0|22.0|-1.0|-1.0|1.0|128.0|32.0|64.0|0.0|-1.0|-6.0|1.0|1.0|"
     ]
    }
   ],
   "source": [
    "# 返回预设值的18个描述视频流的参数\n",
    "for i in range(18):\n",
    "    print(cap.get(i),end='|')"
   ]
  },
  {
   "cell_type": "code",
   "execution_count": 6,
   "id": "1190084a",
   "metadata": {},
   "outputs": [
    {
     "data": {
      "text/plain": [
       "640.0"
      ]
     },
     "execution_count": 6,
     "metadata": {},
     "output_type": "execute_result"
    }
   ],
   "source": [
    "# 自定义参数,比如调整窗口大小（下面是默认大小）\n",
    "cap.get(3)"
   ]
  },
  {
   "cell_type": "code",
   "execution_count": 7,
   "id": "b800f05f",
   "metadata": {},
   "outputs": [
    {
     "name": "stdout",
     "output_type": "stream",
     "text": [
      "640.0\n",
      "352.0\n"
     ]
    }
   ],
   "source": [
    "cap_1 = cv2.VideoCapture(0)\n",
    "print(cap_1.get(3))\n",
    "cap_1.set(3,320)\n",
    "while True:\n",
    "    _,temp = cap_1.read()\n",
    "    cv2.imshow(\"demo\",temp)\n",
    "    if cv2.waitKey(1) == ord('q'):\n",
    "        break\n",
    "print(cap_1.get(3))\n",
    "cap_1.release()\n",
    "cv2.destroyAllWindows()"
   ]
  },
  {
   "cell_type": "markdown",
   "id": "e14113eb",
   "metadata": {},
   "source": [
    "# Part 2: Playing Video from file\n",
    "\n",
    "与上文基本一模一样，区别在于cv2.VideoCapture()的参数不传摄像头的index而是视频文件路径。\n",
    "\n",
    "另一个需要注意的是视频文件的waitKey参数的设置，描述如下：\n",
    "\n",
    "Also while displaying the frame, use appropriate time for cv.waitKey(). If it is too less, video will be very fast and if it is too high, video will be slow (Well, that is how you can display videos in slow motion). 25 milliseconds will be OK in normal cases."
   ]
  },
  {
   "cell_type": "code",
   "execution_count": 8,
   "id": "4bc4eda3",
   "metadata": {},
   "outputs": [],
   "source": [
    "# 支持多类型视频文件\n",
    "cap_file = cv2.VideoCapture('demo.mp4')\n",
    "\n",
    "while cap.isOpened():\n",
    "    ret, frame = cap_file.read()\n",
    "    # if frame is read correctly ret is True\n",
    "    if not ret:\n",
    "        # 当视频播放完毕也会触发这个break\n",
    "        print(\"Can't receive frame (stream end?). Exiting ...\")\n",
    "        break\n",
    "    gray = cv2.cvtColor(frame, cv2.COLOR_BGR2GRAY)\n",
    "    cv2.imshow('frame', gray)\n",
    "    if cv2.waitKey(9) == ord('q'):\n",
    "        break\n",
    " \n",
    "cap_file.release()\n",
    "cv2.destroyAllWindows()"
   ]
  },
  {
   "cell_type": "markdown",
   "id": "98be5e55",
   "metadata": {},
   "source": [
    "# Part 3: Saving a Video\n",
    "\n",
    "基本的视频保存逻辑：首先实例化一个VideoWriter类的对象，第一个参数是输出路径，第二个参数是视频编码格式，第三个参数是视频帧数，第四个参数是视频尺寸。\n",
    "\n",
    "使用该对象write方法对视频流进行保存。"
   ]
  },
  {
   "cell_type": "code",
   "execution_count": 9,
   "id": "139280ea",
   "metadata": {},
   "outputs": [],
   "source": [
    "cap_save = cv2.VideoCapture(0)\n",
    " \n",
    "# Define the codec and create VideoWriter object\n",
    "fourcc = cv2.VideoWriter_fourcc(*'XVID')\n",
    "out = cv2.VideoWriter('output.avi', fourcc, 20.0, (640,  480))\n",
    " \n",
    "while cap_save.isOpened():\n",
    "    ret, frame = cap_save.read()\n",
    "    if not ret:\n",
    "        print(\"Can't receive frame (stream end?). Exiting ...\")\n",
    "        break\n",
    "    \n",
    "    # 图像翻转函数，第一个参数表示图像，第二个参数表示翻转标识，0为垂直翻转，1为水平翻转。\n",
    "    frame = cv2.flip(frame, 0)\n",
    " \n",
    "    # write the flipped frame\n",
    "    out.write(frame)\n",
    " \n",
    "    cv2.imshow('frame', frame)\n",
    "    if cv2.waitKey(1) == ord('q'):\n",
    "        break\n",
    " \n",
    "# Release everything if job is finished\n",
    "cap_save.release()\n",
    "out.release()\n",
    "cv2.destroyAllWindows()"
   ]
  },
  {
   "cell_type": "markdown",
   "id": "d85d42ce",
   "metadata": {},
   "source": []
  },
  {
   "cell_type": "code",
   "execution_count": null,
   "id": "0c05e214",
   "metadata": {},
   "outputs": [],
   "source": []
  }
 ],
 "metadata": {
  "kernelspec": {
   "display_name": "OpenCV4",
   "language": "python",
   "name": "opencv4"
  },
  "language_info": {
   "codemirror_mode": {
    "name": "ipython",
    "version": 3
   },
   "file_extension": ".py",
   "mimetype": "text/x-python",
   "name": "python",
   "nbconvert_exporter": "python",
   "pygments_lexer": "ipython3",
   "version": "3.10.15"
  }
 },
 "nbformat": 4,
 "nbformat_minor": 5
}
