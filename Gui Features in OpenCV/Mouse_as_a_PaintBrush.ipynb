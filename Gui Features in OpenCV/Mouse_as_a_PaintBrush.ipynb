{
 "cells": [
  {
   "cell_type": "markdown",
   "id": "2bac52b0",
   "metadata": {},
   "source": [
    "# Mouse_as_a_PaintBrush\n",
    "    Goal 1 ：Learn to handle mouse events in OpenCV （处理鼠标事件）\n",
    "    Goal 2 ：You will learn these functions : cv.setMouseCallback() （函数学习）"
   ]
  },
  {
   "cell_type": "markdown",
   "id": "09278eb6",
   "metadata": {},
   "source": [
    "## Simple Demo\n",
    "Create a simple demo which draws a circle on the image when you double-click the mouse.(创建一个简单的应用，当你的鼠标双击图像时，则在图像上绘制一个圆)"
   ]
  },
  {
   "cell_type": "code",
   "execution_count": 1,
   "id": "696ab235",
   "metadata": {},
   "outputs": [],
   "source": [
    "# 查看鼠标事件\n",
    "import cv2\n",
    "import numpy as np"
   ]
  },
  {
   "cell_type": "code",
   "execution_count": 2,
   "id": "8d5ede06",
   "metadata": {},
   "outputs": [
    {
     "data": {
      "text/plain": [
       "['EVENT_FLAG_ALTKEY',\n",
       " 'EVENT_FLAG_CTRLKEY',\n",
       " 'EVENT_FLAG_LBUTTON',\n",
       " 'EVENT_FLAG_MBUTTON',\n",
       " 'EVENT_FLAG_RBUTTON',\n",
       " 'EVENT_FLAG_SHIFTKEY',\n",
       " 'EVENT_LBUTTONDBLCLK',\n",
       " 'EVENT_LBUTTONDOWN',\n",
       " 'EVENT_LBUTTONUP',\n",
       " 'EVENT_MBUTTONDBLCLK',\n",
       " 'EVENT_MBUTTONDOWN',\n",
       " 'EVENT_MBUTTONUP',\n",
       " 'EVENT_MOUSEHWHEEL',\n",
       " 'EVENT_MOUSEMOVE',\n",
       " 'EVENT_MOUSEWHEEL',\n",
       " 'EVENT_RBUTTONDBLCLK',\n",
       " 'EVENT_RBUTTONDOWN',\n",
       " 'EVENT_RBUTTONUP']"
      ]
     },
     "execution_count": 2,
     "metadata": {},
     "output_type": "execute_result"
    }
   ],
   "source": [
    "event_ls = [i for i in dir(cv2) if 'EVENT' in i]\n",
    "event_ls"
   ]
  },
  {
   "cell_type": "markdown",
   "id": "660bc64f",
   "metadata": {},
   "source": [
    "EVENT_FLAG_ALTKEY: 表示Alt键被按下的状态，通常用于判断同时按下了Alt键的组合操作。\n",
    "\n",
    "EVENT_FLAG_CTRLKEY: 表示Ctrl键被按下的状态，通常用于判断同时按下了Ctrl键的组合操作。\n",
    "\n",
    "EVENT_FLAG_LBUTTON: 表示左鼠标按钮的状态，通常用于检测左键相关的操作。\n",
    "\n",
    "EVENT_FLAG_MBUTTON: 表示中间鼠标按钮（滚轮）的状态，通常用于检测中键相关的操作。\n",
    "\n",
    "EVENT_FLAG_RBUTTON: 表示右鼠标按钮的状态，通常用于检测右键相关的操作。\n",
    "\n",
    "EVENT_FLAG_SHIFTKEY: 表示Shift键被按下的状态，通常用于判断同时按下了Shift键的组合操作。\n",
    "\n",
    "EVENT_LBUTTONDBLCLK: 表示左鼠标按钮的双击事件。\n",
    "\n",
    "EVENT_LBUTTONDOWN: 表示左鼠标按钮被按下的事件。\n",
    "\n",
    "EVENT_LBUTTONUP: 表示左鼠标按钮被释放的事件。\n",
    "\n",
    "EVENT_MBUTTONDBLCLK: 表示中鼠标按钮的双击事件。\n",
    "\n",
    "EVENT_MBUTTONDOWN: 表示中鼠标按钮被按下的事件。\n",
    "\n",
    "EVENT_MBUTTONUP: 表示中鼠标按钮被释放的事件。"
   ]
  },
  {
   "cell_type": "markdown",
   "id": "7acf4042",
   "metadata": {},
   "source": [
    "First we create a mouse callback function which is executed when a mouse event take place. Mouse event can be anything related to mouse like left-button down, left-button up, left-button double-click etc. It gives us the coordinates (x,y) for every mouse event. With this event and location, we can do whatever we like. To list all available events available, run the following code in Python terminal.\n",
    "\n",
    "任何的鼠标事件会返回一个坐标，基于这个坐标，我们可以做任何与之相关的东西。"
   ]
  },
  {
   "cell_type": "code",
   "execution_count": 6,
   "id": "e4bb59ad",
   "metadata": {},
   "outputs": [],
   "source": [
    "# mouse callback function（定于鼠标的回调函数）\n",
    "# 函数传入的是：事件类型、（事件发生的）坐标等\n",
    "# 事件类型名称解析：EVENT_LBUTTONDBLCLK可理解为：event、L（左）、Button（按键）、DB（两次）、CLK（click）\n",
    "def draw_circle(event,x,y,flags,param):\n",
    "    if event == cv2.EVENT_LBUTTONDBLCLK:\n",
    "        # 参数列表：图像、圆心、半径、颜色、线条大小（或是否填充）\n",
    "        cv2.circle(img,(x,y),100,(255,0,0),-1)\n",
    "    # 可自定义类型：单击绘制无填充的圆\n",
    "    if event == cv2.EVENT_LBUTTONDOWN:\n",
    "        cv2.circle(img,(x,y),50,(0,255,-1),2)\n",
    "\n",
    "# Create a black image, a window and bind the function to window\n",
    "img = np.zeros((512,512,3), np.uint8)\n",
    "cv2.namedWindow('image')  # 相当于新建一个名为‘image’的窗口\n",
    "# 将窗口于事件进行绑定。这其中定义窗口使用的是“窗口名”进行对应。\n",
    "cv2.setMouseCallback('image',draw_circle)\n",
    " \n",
    "while(1):\n",
    "    # 将img展示到（已经定义好的）‘image’窗口中\n",
    "    cv2.imshow('image',img)\n",
    "    if cv2.waitKey(20) & 0xFF == 27:\n",
    "        break\n",
    "cv2.destroyAllWindows()"
   ]
  },
  {
   "cell_type": "markdown",
   "id": "ac7e594f",
   "metadata": {},
   "source": [
    "## More Advanced Demo\n",
    "Now we go for a much better application. In this, we draw either rectangles or circles (depending on the mode we select) by dragging the mouse like we do in Paint application. So our mouse callback function has two parts, one to draw rectangle and other to draw the circles. This specific example will be really helpful in creating and understanding some interactive applications like object tracking, image segmentation etc."
   ]
  },
  {
   "cell_type": "markdown",
   "id": "3f0e7ec7",
   "metadata": {},
   "source": [
    "切换不同mode的时候，不同的事件会触发不同的效果。"
   ]
  },
  {
   "cell_type": "code",
   "execution_count": 9,
   "id": "51b7a37e",
   "metadata": {},
   "outputs": [],
   "source": [
    "drawing = False # true if mouse is pressed\n",
    "mode = True # if True, draw rectangle. Press 'm' to toggle to curve\n",
    "ix,iy = -1,-1\n",
    " \n",
    "# mouse callback function\n",
    "# 当你的图像窗口展示出来之后，每一个单位时间你的鼠标都在向窗口发送EVENT\n",
    "def draw_circle(event,x,y,flags,param):\n",
    "    global ix,iy,drawing,mode\n",
    "     \n",
    "    # 如果左键按下（还未松开），则开始绘制\n",
    "    if event == cv2.EVENT_LBUTTONDOWN:\n",
    "        drawing = True\n",
    "        ix,iy = x,y\n",
    "    \n",
    "    # 鼠标移动\n",
    "    elif event == cv2.EVENT_MOUSEMOVE:\n",
    "        if drawing == True:\n",
    "            if mode == True:\n",
    "                # 绘制左键按下时的坐标和（移动的）当前坐标为顶点所构成的矩形\n",
    "                cv2.rectangle(img,(ix,iy),(x,y),(0,255,0),1)\n",
    "            else:\n",
    "                cv2.circle(img,(x,y),5,(0,0,255),-1)\n",
    "    # 鼠标抬起，结束绘制，\n",
    "    elif event == cv2.EVENT_LBUTTONUP:\n",
    "        drawing = False\n",
    "        if mode == True:\n",
    "            cv2.rectangle(img,(ix,iy),(x,y),(0,255,0),-1)\n",
    "        else:\n",
    "            cv2.circle(img,(x,y),5,(0,0,255),-1)\n",
    "\n",
    "# 测试\n",
    "img = np.zeros((512,512,3), np.uint8)\n",
    "cv2.namedWindow('image')\n",
    "cv2.setMouseCallback('image',draw_circle)\n",
    " \n",
    "while(1):\n",
    "    cv2.imshow('image',img)\n",
    "    k = cv2.waitKey(1) & 0xFF\n",
    "    if k == ord('m'):\n",
    "        mode = not mode\n",
    "    elif k == 27:\n",
    "        break\n",
    " \n",
    "cv2.destroyAllWindows()"
   ]
  },
  {
   "cell_type": "code",
   "execution_count": null,
   "id": "b890f2bc",
   "metadata": {},
   "outputs": [],
   "source": []
  }
 ],
 "metadata": {
  "kernelspec": {
   "display_name": "OpenCV4",
   "language": "python",
   "name": "opencv4"
  },
  "language_info": {
   "codemirror_mode": {
    "name": "ipython",
    "version": 3
   },
   "file_extension": ".py",
   "mimetype": "text/x-python",
   "name": "python",
   "nbconvert_exporter": "python",
   "pygments_lexer": "ipython3",
   "version": "3.10.15"
  }
 },
 "nbformat": 4,
 "nbformat_minor": 5
}
