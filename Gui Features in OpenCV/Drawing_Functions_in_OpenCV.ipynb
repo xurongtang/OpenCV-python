{
 "cells": [
  {
   "cell_type": "markdown",
   "id": "995d3655",
   "metadata": {},
   "source": [
    "# Drawing Functions in OpenCV\n",
    "\n",
    "Learn to draw different geometric shapes with OpenCV\n",
    "\n",
    "\n",
    "You will learn these functions : cv.line(), cv.circle() , cv.rectangle(), cv.ellipse(), cv.putText() etc.\n",
    "\n",
    "本节主要介绍如何使用opencv进行绘图"
   ]
  },
  {
   "cell_type": "code",
   "execution_count": 1,
   "id": "5b2bc441",
   "metadata": {},
   "outputs": [],
   "source": [
    "import numpy as np\n",
    "import cv2"
   ]
  },
  {
   "cell_type": "code",
   "execution_count": 2,
   "id": "0b014d5a",
   "metadata": {},
   "outputs": [],
   "source": [
    "# 创建图像\n",
    "# 如先前所述，图像是一个三维矩阵，那么创建三维矩阵也就创建了一个图像\n",
    "\n",
    "img = np.zeros((512,512,3),np.uint8)"
   ]
  },
  {
   "cell_type": "code",
   "execution_count": 3,
   "id": "33a46938",
   "metadata": {},
   "outputs": [
    {
     "data": {
      "text/plain": [
       "-1"
      ]
     },
     "execution_count": 3,
     "metadata": {},
     "output_type": "execute_result"
    }
   ],
   "source": [
    "cv2.imshow(\"demo\",img)\n",
    "cv2.waitKey(0)"
   ]
  },
  {
   "cell_type": "markdown",
   "id": "1e4739bf",
   "metadata": {},
   "source": [
    "## Draw a diagonal blue line with thickness of 5 px\n",
    "画一个对角的蓝色的5个像素的对角线 或 自定义的绘制一条直线"
   ]
  },
  {
   "cell_type": "code",
   "execution_count": 4,
   "id": "3dbbe383",
   "metadata": {},
   "outputs": [
    {
     "data": {
      "text/plain": [
       "-1"
      ]
     },
     "execution_count": 4,
     "metadata": {},
     "output_type": "execute_result"
    }
   ],
   "source": [
    "# 对角的蓝色的5个像素的对角线\n",
    "cv2.line(img,(0,0),(511,511),(255,0,0),5)\n",
    "# 自定义绘制\n",
    "cv2.line(img,(0,0),(235,500),(12,234,24),10)\n",
    "\n",
    "cv2.imshow(\"demo\",img)\n",
    "cv2.waitKey(0)\n",
    "\n",
    "# 其参数为，图像、线条端点1、线条端点2、颜色、像素大小,图像坐标系统为横着x竖着y。"
   ]
  },
  {
   "cell_type": "code",
   "execution_count": 5,
   "id": "c17836a4",
   "metadata": {},
   "outputs": [
    {
     "data": {
      "text/plain": [
       "np.True_"
      ]
     },
     "execution_count": 5,
     "metadata": {},
     "output_type": "execute_result"
    }
   ],
   "source": [
    "# 该方法即对参数本身进行更改，同时也有返回值\n",
    "ret = cv2.line(img,(0,0),(235,500),(12,234,24),10)\n",
    "np.all(ret == img)"
   ]
  },
  {
   "cell_type": "markdown",
   "id": "fc99db00",
   "metadata": {},
   "source": [
    "## Drawing Rectangle\n",
    "绘制矩形"
   ]
  },
  {
   "cell_type": "code",
   "execution_count": 6,
   "id": "65289ff7",
   "metadata": {},
   "outputs": [
    {
     "data": {
      "text/plain": [
       "-1"
      ]
     },
     "execution_count": 6,
     "metadata": {},
     "output_type": "execute_result"
    }
   ],
   "source": [
    "# 示范1\n",
    "cv2.rectangle(img,(384,0),(510,128),(0,255,0),3)\n",
    "# 示范2\n",
    "cv2.rectangle(img,(200,0),(261,89),(100,100,100),6)\n",
    "# 参数为 图像、左上顶点坐标、右下顶点坐标、颜色、像素大小\n",
    "cv2.imshow(\"rectangle\",img)\n",
    "cv2.waitKey(0)"
   ]
  },
  {
   "cell_type": "markdown",
   "id": "fac0656c",
   "metadata": {},
   "source": [
    "## Drawing Circle\n",
    "绘制圆形"
   ]
  },
  {
   "cell_type": "code",
   "execution_count": 7,
   "id": "b1789706",
   "metadata": {},
   "outputs": [
    {
     "data": {
      "text/plain": [
       "-1"
      ]
     },
     "execution_count": 7,
     "metadata": {},
     "output_type": "execute_result"
    }
   ],
   "source": [
    "# 参数：图像、圆心、半径、颜色、线条（像素）大小\n",
    "# 示范1（线条大小设置为-1表示对整个圆进行填充）\n",
    "cv2.circle(img,(447,63), 63, (0,0,255), -1)\n",
    "# 示范2\n",
    "cv2.circle(img,(261,89),40,(255,0,0),2)\n",
    "\n",
    "cv2.imshow(\"circle\",img)\n",
    "cv2.waitKey(0)"
   ]
  },
  {
   "cell_type": "markdown",
   "id": "43afa683",
   "metadata": {},
   "source": [
    "## Drawing Ellipse\n",
    "绘制椭圆"
   ]
  },
  {
   "cell_type": "code",
   "execution_count": 8,
   "id": "6cbd87e8",
   "metadata": {},
   "outputs": [
    {
     "data": {
      "text/plain": [
       "-1"
      ]
     },
     "execution_count": 8,
     "metadata": {},
     "output_type": "execute_result"
    }
   ],
   "source": [
    "# 参数：图像、椭圆中心点、（长轴长，短轴长）、旋转角度、起始（绘制）角度、截至（绘制）角度、大小\n",
    "# 提示：关于理解其实绘制角度、截至绘制角度和旋转角度需要时刻注意的是牢记图像坐标轴规则。\n",
    "# 示范1\n",
    "cv2.ellipse(img,(256,256),(100,50),0,0,180,255,-1)\n",
    "# 示范2\n",
    "cv2.ellipse(img,(256,300),(80,40),0,0,360,(0,255,0),2)\n",
    "# 示范3\n",
    "cv2.ellipse(img,(100,300),(30,10),45,0,270,(0,0,255),4)\n",
    "\n",
    "cv2.imshow(\"ellipse\",img)\n",
    "cv2.waitKey(0)"
   ]
  },
  {
   "cell_type": "markdown",
   "id": "c172531b",
   "metadata": {},
   "source": [
    "## Drawing Polygon\n",
    "绘制多边形"
   ]
  },
  {
   "cell_type": "code",
   "execution_count": 9,
   "id": "0995123e",
   "metadata": {},
   "outputs": [
    {
     "name": "stdout",
     "output_type": "stream",
     "text": [
      "(4, 2)\n",
      "(4, 1, 2)\n"
     ]
    },
    {
     "data": {
      "text/plain": [
       "-1"
      ]
     },
     "execution_count": 9,
     "metadata": {},
     "output_type": "execute_result"
    }
   ],
   "source": [
    "# 参数：图像、各个多边形的点、是否闭合、颜色、线条大小\n",
    "# 示范1\n",
    "point_ls = np.array([[10,55],[20,80],[70,70],[50,60]],np.int32)\n",
    "print(point_ls.shape)\n",
    "ps = point_ls.reshape((-1,1,2))\n",
    "print(ps.shape)\n",
    "cv2.polylines(img,[ps],True,(255,0,255),3)\n",
    "\n",
    "cv2.imshow(\"polylines\",img)\n",
    "cv2.waitKey(0)"
   ]
  },
  {
   "cell_type": "markdown",
   "id": "42484765",
   "metadata": {},
   "source": [
    "## Draw text\n",
    "绘制文本"
   ]
  },
  {
   "cell_type": "code",
   "execution_count": 11,
   "id": "150cbca1",
   "metadata": {},
   "outputs": [
    {
     "data": {
      "text/plain": [
       "-1"
      ]
     },
     "execution_count": 11,
     "metadata": {},
     "output_type": "execute_result"
    }
   ],
   "source": [
    "font = cv2.FONT_HERSHEY_SIMPLEX\n",
    "\n",
    "# 参数：图像、文本内容、文本框的左下顶点、字体类型、字体大小、线条颜色、线条粗细、线条样式\n",
    "cv2.putText(img,'OpenCV',(10,500), font, 4,(255,255,255),2,cv2.LINE_AA)\n",
    "\n",
    "cv2.imshow(\"polylines\",img)\n",
    "cv2.waitKey(0)"
   ]
  },
  {
   "cell_type": "code",
   "execution_count": null,
   "id": "f5d97c6a",
   "metadata": {},
   "outputs": [],
   "source": []
  }
 ],
 "metadata": {
  "kernelspec": {
   "display_name": "OpenCV4",
   "language": "python",
   "name": "opencv4"
  },
  "language_info": {
   "codemirror_mode": {
    "name": "ipython",
    "version": 3
   },
   "file_extension": ".py",
   "mimetype": "text/x-python",
   "name": "python",
   "nbconvert_exporter": "python",
   "pygments_lexer": "ipython3",
   "version": "3.10.15"
  }
 },
 "nbformat": 4,
 "nbformat_minor": 5
}
